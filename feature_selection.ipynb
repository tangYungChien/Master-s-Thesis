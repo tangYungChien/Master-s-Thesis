{
 "cells": [
  {
   "cell_type": "code",
   "execution_count": null,
   "id": "902db992-5e50-45dc-8b79-feae9e200b46",
   "metadata": {},
   "outputs": [],
   "source": [
    "### 互訊息MI ###\n",
    "import pandas as pd\n",
    "from sklearn.feature_selection import mutual_info_classif\n",
    "data = pd.read_excel('study_data__structure_2.xlsx') #前處理後的結構化資料\n",
    "\n",
    "# 將特徵和目標變數分開\n",
    "X = data.drop(\"mace\", axis=1)  # 特徵\n",
    "y = data[\"mace\"]  # 目標變數\n",
    "\n",
    "# 計算特徵和目標變數之間的互信息\n",
    "mutual_info = mutual_info_classif(X, y)\n",
    "\n",
    "# 印出每個特徵的互信息分數\n",
    "for i, mi in enumerate(mutual_info):\n",
    "    print(f\"'{X.columns[i]}': {mi}\")"
   ]
  },
  {
   "cell_type": "code",
   "execution_count": null,
   "id": "c9167cb9-e368-411d-8c4d-edb08bbd6e8d",
   "metadata": {},
   "outputs": [],
   "source": [
    "### RFE ###\n",
    "import numpy as np\n",
    "import pandas as pd\n",
    "from sklearn.feature_selection import RFE\n",
    "from sklearn.linear_model import LogisticRegression\n",
    "\n",
    "data = pd.read_excel('study_data__structure_2.xlsx')\n",
    "\n",
    "X = data.drop('mace', axis=1)  # 特徵\n",
    "y = data['mace']  # 目標變數\n",
    "\n",
    "# 初始化邏輯回歸模型\n",
    "model = LogisticRegression()\n",
    "\n",
    "# 初始化 RFE 特徵選擇器，選擇要保留的特徵数量\n",
    "n_features_to_select = 15  \n",
    "rfe = RFE(estimator=model, n_features_to_select=n_features_to_select)\n",
    "\n",
    "rfe.fit(X, y)\n",
    "# 输出選擇的特徵\n",
    "selected_features = X.columns[rfe.support_]\n",
    "print(\"選擇的特徵：\", selected_features.tolist())\n",
    "print(\"特徵排名：\", rfe.ranking_)"
   ]
  },
  {
   "cell_type": "code",
   "execution_count": null,
   "id": "ce4600a6-8d82-447a-9a43-b6777f0824a0",
   "metadata": {},
   "outputs": [],
   "source": [
    "### Lasso ###\n",
    "\n",
    "import numpy as np\n",
    "import pandas as pd\n",
    "from sklearn.linear_model import Lasso\n",
    "from sklearn.model_selection import train_test_split\n",
    "from sklearn.preprocessing import StandardScaler\n",
    "\n",
    "\n",
    "data = pd.read_excel('study_data__structure_2.xlsx')\n",
    "\n",
    "# 分離特徵和目標變量\n",
    "X = data.drop('mace', axis=1)  # 特徵\n",
    "y = data['mace']  # 目標變量\n",
    "\n",
    "# 數據標準化\n",
    "scaler = StandardScaler()\n",
    "X_scaled = scaler.fit_transform(X)\n",
    "\n",
    "# 初始化 Lasso 模型\n",
    "lasso = Lasso(alpha=0.01)  # alpha 是 L1 正則化項的懲罰力度，可以調整\n",
    "\n",
    "# 擬合 Lasso 模型\n",
    "lasso.fit(X_scaled, y)\n",
    "\n",
    "# 獲取特徵選擇結果\n",
    "selected_features = X.columns[lasso.coef_ != 0]\n",
    "print(\"選擇的特徵：\", selected_features.tolist())"
   ]
  }
 ],
 "metadata": {
  "kernelspec": {
   "display_name": "Python 3 (ipykernel)",
   "language": "python",
   "name": "python3"
  },
  "language_info": {
   "codemirror_mode": {
    "name": "ipython",
    "version": 3
   },
   "file_extension": ".py",
   "mimetype": "text/x-python",
   "name": "python",
   "nbconvert_exporter": "python",
   "pygments_lexer": "ipython3",
   "version": "3.10.12"
  }
 },
 "nbformat": 4,
 "nbformat_minor": 5
}
